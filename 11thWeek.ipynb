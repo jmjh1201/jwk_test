{
  "nbformat": 4,
  "nbformat_minor": 0,
  "metadata": {
    "colab": {
      "name": "11thWeek.ipynb",
      "provenance": [],
      "authorship_tag": "ABX9TyO2hXrK4FmQZJvFjRYeiwQq",
      "include_colab_link": true
    },
    "kernelspec": {
      "name": "python3",
      "display_name": "Python 3"
    },
    "language_info": {
      "name": "python"
    }
  },
  "cells": [
    {
      "cell_type": "markdown",
      "metadata": {
        "id": "view-in-github",
        "colab_type": "text"
      },
      "source": [
        "<a href=\"https://colab.research.google.com/github/jmjh1201/jwk_test/blob/main/11thWeek.ipynb\" target=\"_parent\"><img src=\"https://colab.research.google.com/assets/colab-badge.svg\" alt=\"Open In Colab\"/></a>"
      ]
    },
    {
      "cell_type": "code",
      "execution_count": null,
      "metadata": {
        "id": "cyMofPpcU4PD"
      },
      "outputs": [],
      "source": [
        "n, x=map(int,input().split())\n",
        "for i in range(n):\n",
        "    a, b=map(int,input().split())\n",
        "    l=(a**2+b**2)**0.5\n",
        "    if x<=l:\n",
        "        print('IN')\n",
        "    else:\n",
        "        print('OUT')\n",
        "\n",
        "\n",
        "\n",
        "\n",
        "        ptiny('test')"
      ]
    },
    {
      "cell_type": "code",
      "source": [
        "x,y,z,a,b=map(int,input().split())\n",
        "if x+y<z*2:\n",
        "    print(x*a+y*b)\n",
        "else:\n",
        "    m=min(a,b)\n",
        "    if m==a:\n",
        "        print(z*a*2+(b-a)*y)\n",
        "    else:\n",
        "        print(z*b*2+(a-b)*x)"
      ],
      "metadata": {
        "id": "e2XSJv3kU8L7"
      },
      "execution_count": null,
      "outputs": []
    },
    {
      "cell_type": "code",
      "source": [
        "n = int(input())\n",
        "t = list(map(int, input().split()))\n",
        "a = 0\n",
        "b = 0\n",
        "for i in t:\n",
        "    a += i // 20 * 10 + 10\n",
        "    b += i // 40 * 15 + 15\n",
        "if a < b:\n",
        "    print('A', a)\n",
        "elif a > b:\n",
        "    print('B', b)\n",
        "else:\n",
        "    print('A', 'B', a)"
      ],
      "metadata": {
        "id": "zpIk4ylAVVZb"
      },
      "execution_count": null,
      "outputs": []
    },
    {
      "cell_type": "code",
      "source": [
        "n=int(input())\n",
        "cl=list(map(int,input().split()))\n",
        "def cal_A(l):\n",
        "    total=0\n",
        "    for i in l:\n",
        "        total+=(i//20+1)*10\n",
        "    return total\n",
        "\n",
        "\n",
        "def cal_B(l):\n",
        "    total=0\n",
        "    for i in l:\n",
        "        total+=(i//40+1)*15\n",
        "    return total\n",
        "\n",
        "a_fee=cal_A(cl)\n",
        "b_fee=cal_B(cl)\n",
        "# print(a_fee, b_fee)\n",
        "if a_fee==b_fee:\n",
        "    print('A', 'B', a_fee)\n",
        "elif a_fee<b_fee:\n",
        "    print('A', a_fee)\n",
        "else:\n",
        "    print('B', b_fee)\n"
      ],
      "metadata": {
        "id": "RK3UWvQaVIRr"
      },
      "execution_count": null,
      "outputs": []
    }
  ]
}